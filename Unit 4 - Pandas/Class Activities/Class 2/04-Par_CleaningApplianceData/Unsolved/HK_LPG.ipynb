{
 "cells": [
  {
   "cell_type": "code",
   "execution_count": 1,
   "metadata": {},
   "outputs": [],
   "source": [
    "# Import Dependencies\n",
    "import pandas as pd"
   ]
  },
  {
   "cell_type": "code",
   "execution_count": 17,
   "metadata": {},
   "outputs": [
    {
     "data": {
      "text/html": [
       "<div>\n",
       "<style scoped>\n",
       "    .dataframe tbody tr th:only-of-type {\n",
       "        vertical-align: middle;\n",
       "    }\n",
       "\n",
       "    .dataframe tbody tr th {\n",
       "        vertical-align: top;\n",
       "    }\n",
       "\n",
       "    .dataframe thead th {\n",
       "        text-align: right;\n",
       "    }\n",
       "</style>\n",
       "<table border=\"1\" class=\"dataframe\">\n",
       "  <thead>\n",
       "    <tr style=\"text-align: right;\">\n",
       "      <th></th>\n",
       "      <th>Part</th>\n",
       "      <th>Type</th>\n",
       "      <th>Type.1</th>\n",
       "      <th>Brand</th>\n",
       "      <th>牌子</th>\n",
       "      <th>Model</th>\n",
       "      <th>Other Information</th>\n",
       "      <th>其他資料</th>\n",
       "      <th>Place of Manufacture</th>\n",
       "      <th>製造地點</th>\n",
       "      <th>Applicant</th>\n",
       "      <th>申請人</th>\n",
       "      <th>Telephone Number</th>\n",
       "      <th>Approval Expiry Date</th>\n",
       "    </tr>\n",
       "  </thead>\n",
       "  <tbody>\n",
       "    <tr>\n",
       "      <th>0</th>\n",
       "      <td>Part 1 – Approved Domestic Gas Cooking Appliances</td>\n",
       "      <td>Built-in Hotplate 1 Burner</td>\n",
       "      <td>嵌入式單頭平面爐</td>\n",
       "      <td>De Dietrich</td>\n",
       "      <td>NaN</td>\n",
       "      <td>DTG1288XC</td>\n",
       "      <td>CERAMIC GLASS TOP PANEL</td>\n",
       "      <td>陶瓷玻璃面版</td>\n",
       "      <td>Italy</td>\n",
       "      <td>意大利</td>\n",
       "      <td>Gilman Group Limited</td>\n",
       "      <td>太平洋行國際有限公司</td>\n",
       "      <td>2418 3272</td>\n",
       "      <td>2023-09-26</td>\n",
       "    </tr>\n",
       "    <tr>\n",
       "      <th>1</th>\n",
       "      <td>Part 1 – Approved Domestic Gas Cooking Appliances</td>\n",
       "      <td>Built-in Hotplate 1 Burner</td>\n",
       "      <td>嵌入式單頭平面爐</td>\n",
       "      <td>Electrolux</td>\n",
       "      <td>伊萊克斯</td>\n",
       "      <td>EGC-2901</td>\n",
       "      <td>CERAMIC GLASS TOP PANEL</td>\n",
       "      <td>陶瓷玻璃面版</td>\n",
       "      <td>The People's Republic of China</td>\n",
       "      <td>中華人民共和國</td>\n",
       "      <td>Dah Chong Hong, Ltd.</td>\n",
       "      <td>大昌貿易行有限公司</td>\n",
       "      <td>2262 1690</td>\n",
       "      <td>2024-06-24</td>\n",
       "    </tr>\n",
       "    <tr>\n",
       "      <th>2</th>\n",
       "      <td>Part 1 – Approved Domestic Gas Cooking Appliances</td>\n",
       "      <td>Built-in Hotplate 1 Burner</td>\n",
       "      <td>嵌入式單頭平面爐</td>\n",
       "      <td>Gaggenau</td>\n",
       "      <td>NaN</td>\n",
       "      <td>VG231120F</td>\n",
       "      <td>STAINLESS STEEL TOP PANEL</td>\n",
       "      <td>不銹鋼面版</td>\n",
       "      <td>France</td>\n",
       "      <td>法國</td>\n",
       "      <td>Kitchen Infinity Corp. Ltd.</td>\n",
       "      <td>Kitchen Infinity Corp. Ltd.</td>\n",
       "      <td>2552 2208</td>\n",
       "      <td>2024-04-01</td>\n",
       "    </tr>\n",
       "    <tr>\n",
       "      <th>3</th>\n",
       "      <td>Part 1 – Approved Domestic Gas Cooking Appliances</td>\n",
       "      <td>Built-in Hotplate 1 Burner</td>\n",
       "      <td>嵌入式單頭平面爐</td>\n",
       "      <td>Gaggenau</td>\n",
       "      <td>NaN</td>\n",
       "      <td>VG231114F</td>\n",
       "      <td>STAINLESS STEEL TOP PANEL</td>\n",
       "      <td>不銹鋼面版</td>\n",
       "      <td>France</td>\n",
       "      <td>法國</td>\n",
       "      <td>Kitchen Infinity Corp. Ltd.</td>\n",
       "      <td>Kitchen Infinity Corp. Ltd.</td>\n",
       "      <td>2552 2208</td>\n",
       "      <td>2022-07-19</td>\n",
       "    </tr>\n",
       "    <tr>\n",
       "      <th>4</th>\n",
       "      <td>Part 1 – Approved Domestic Gas Cooking Appliances</td>\n",
       "      <td>Built-in Hotplate 1 Burner</td>\n",
       "      <td>嵌入式單頭平面爐</td>\n",
       "      <td>GERMAN POOL</td>\n",
       "      <td>德國寶</td>\n",
       "      <td>GP12-1-LG</td>\n",
       "      <td>GLASS TOP PANEL</td>\n",
       "      <td>玻璃面版</td>\n",
       "      <td>The People's Republic of China</td>\n",
       "      <td>中華人民共和國</td>\n",
       "      <td>German Pool (Hong Kong) Ltd.</td>\n",
       "      <td>德國寶（香港）有限公司</td>\n",
       "      <td>2773 2812</td>\n",
       "      <td>2025-02-15</td>\n",
       "    </tr>\n",
       "  </tbody>\n",
       "</table>\n",
       "</div>"
      ],
      "text/plain": [
       "                                                Part  \\\n",
       "0  Part 1 – Approved Domestic Gas Cooking Appliances   \n",
       "1  Part 1 – Approved Domestic Gas Cooking Appliances   \n",
       "2  Part 1 – Approved Domestic Gas Cooking Appliances   \n",
       "3  Part 1 – Approved Domestic Gas Cooking Appliances   \n",
       "4  Part 1 – Approved Domestic Gas Cooking Appliances   \n",
       "\n",
       "                         Type    Type.1        Brand    牌子      Model  \\\n",
       "0  Built-in Hotplate 1 Burner  嵌入式單頭平面爐  De Dietrich   NaN  DTG1288XC   \n",
       "1  Built-in Hotplate 1 Burner  嵌入式單頭平面爐   Electrolux  伊萊克斯   EGC-2901   \n",
       "2  Built-in Hotplate 1 Burner  嵌入式單頭平面爐     Gaggenau   NaN  VG231120F   \n",
       "3  Built-in Hotplate 1 Burner  嵌入式單頭平面爐     Gaggenau   NaN  VG231114F   \n",
       "4  Built-in Hotplate 1 Burner  嵌入式單頭平面爐  GERMAN POOL   德國寶  GP12-1-LG   \n",
       "\n",
       "           Other Information    其他資料            Place of Manufacture     製造地點  \\\n",
       "0    CERAMIC GLASS TOP PANEL  陶瓷玻璃面版                           Italy      意大利   \n",
       "1    CERAMIC GLASS TOP PANEL  陶瓷玻璃面版  The People's Republic of China  中華人民共和國   \n",
       "2  STAINLESS STEEL TOP PANEL   不銹鋼面版                          France       法國   \n",
       "3  STAINLESS STEEL TOP PANEL   不銹鋼面版                          France       法國   \n",
       "4            GLASS TOP PANEL    玻璃面版  The People's Republic of China  中華人民共和國   \n",
       "\n",
       "                      Applicant                          申請人 Telephone Number  \\\n",
       "0          Gilman Group Limited                   太平洋行國際有限公司        2418 3272   \n",
       "1          Dah Chong Hong, Ltd.                    大昌貿易行有限公司        2262 1690   \n",
       "2   Kitchen Infinity Corp. Ltd.  Kitchen Infinity Corp. Ltd.        2552 2208   \n",
       "3   Kitchen Infinity Corp. Ltd.  Kitchen Infinity Corp. Ltd.        2552 2208   \n",
       "4  German Pool (Hong Kong) Ltd.                  德國寶（香港）有限公司        2773 2812   \n",
       "\n",
       "  Approval Expiry Date  \n",
       "0           2023-09-26  \n",
       "1           2024-06-24  \n",
       "2           2024-04-01  \n",
       "3           2022-07-19  \n",
       "4           2025-02-15  "
      ]
     },
     "execution_count": 17,
     "metadata": {},
     "output_type": "execute_result"
    }
   ],
   "source": [
    "# Reference the file where the CSV is located\n",
    "filepath='../Resources/dga_lpg.csv'\n",
    "df=pd.read_csv(filepath)\n",
    "df.head()\n",
    "\n",
    "# Import the data into a Pandas DataFrame"
   ]
  },
  {
   "cell_type": "code",
   "execution_count": 22,
   "metadata": {},
   "outputs": [
    {
     "data": {
      "text/plain": [
       "Index(['Part', 'Type', 'Type.1', 'Brand', '牌子', 'Model', 'Other Information',\n",
       "       '其他資料', 'Place of Manufacture', '製造地點', 'Applicant', '申請人',\n",
       "       'Telephone Number', 'Approval Expiry Date'],\n",
       "      dtype='object')"
      ]
     },
     "execution_count": 22,
     "metadata": {},
     "output_type": "execute_result"
    }
   ],
   "source": [
    "# Reduce to columns that are in English\n",
    "df.columns\n",
    "\n"
   ]
  },
  {
   "cell_type": "code",
   "execution_count": 25,
   "metadata": {},
   "outputs": [
    {
     "ename": "TypeError",
     "evalue": "'method' object is not subscriptable",
     "output_type": "error",
     "traceback": [
      "\u001b[1;31m---------------------------------------------------------------------------\u001b[0m",
      "\u001b[1;31mTypeError\u001b[0m                                 Traceback (most recent call last)",
      "\u001b[1;32m~\\AppData\\Local\\Temp\\ipykernel_11632\\2797805848.py\u001b[0m in \u001b[0;36m<module>\u001b[1;34m\u001b[0m\n\u001b[1;32m----> 1\u001b[1;33m \u001b[0mdf\u001b[0m\u001b[1;33m.\u001b[0m\u001b[0mdrop\u001b[0m\u001b[1;33m[\u001b[0m\u001b[1;34m'牌子'\u001b[0m\u001b[1;33m,\u001b[0m\u001b[1;34m'其他資料'\u001b[0m\u001b[1;33m,\u001b[0m\u001b[1;34m'製造地點'\u001b[0m\u001b[1;33m,\u001b[0m \u001b[1;34m'申請人'\u001b[0m\u001b[1;33m]\u001b[0m\u001b[1;33m\u001b[0m\u001b[1;33m\u001b[0m\u001b[0m\n\u001b[0m\u001b[0;32m      2\u001b[0m \u001b[0mdf\u001b[0m\u001b[1;33m.\u001b[0m\u001b[0mhead\u001b[0m\u001b[1;33m(\u001b[0m\u001b[1;33m)\u001b[0m\u001b[1;33m\u001b[0m\u001b[1;33m\u001b[0m\u001b[0m\n",
      "\u001b[1;31mTypeError\u001b[0m: 'method' object is not subscriptable"
     ]
    }
   ],
   "source": [
    "df.drop['牌子','其他資料','製造地點', '申請人']\n",
    "df.head()"
   ]
  },
  {
   "cell_type": "code",
   "execution_count": 9,
   "metadata": {},
   "outputs": [],
   "source": [
    "# look for missing values"
   ]
  },
  {
   "cell_type": "code",
   "execution_count": null,
   "metadata": {},
   "outputs": [],
   "source": []
  },
  {
   "cell_type": "code",
   "execution_count": null,
   "metadata": {
    "collapsed": true
   },
   "outputs": [],
   "source": [
    "# drop null rows"
   ]
  },
  {
   "cell_type": "code",
   "execution_count": null,
   "metadata": {},
   "outputs": [],
   "source": [
    "# verify counts"
   ]
  },
  {
   "cell_type": "code",
   "execution_count": null,
   "metadata": {
    "scrolled": true
   },
   "outputs": [],
   "source": [
    "# Check to see if there are any values with mispelled or similar values in \"Applicant\""
   ]
  },
  {
   "cell_type": "code",
   "execution_count": null,
   "metadata": {},
   "outputs": [],
   "source": [
    "# Combine similar applicants together"
   ]
  },
  {
   "cell_type": "code",
   "execution_count": null,
   "metadata": {},
   "outputs": [],
   "source": [
    "# Check to see if you combined similar applicants correctly in \"Applicant\""
   ]
  },
  {
   "cell_type": "code",
   "execution_count": null,
   "metadata": {},
   "outputs": [],
   "source": [
    "# Create a new DataFrame that looks into a specific Place of Manufacture"
   ]
  }
 ],
 "metadata": {
  "kernelspec": {
   "display_name": "Python 3 (ipykernel)",
   "language": "python",
   "name": "python3"
  },
  "language_info": {
   "codemirror_mode": {
    "name": "ipython",
    "version": 3
   },
   "file_extension": ".py",
   "mimetype": "text/x-python",
   "name": "python",
   "nbconvert_exporter": "python",
   "pygments_lexer": "ipython3",
   "version": "3.9.13"
  }
 },
 "nbformat": 4,
 "nbformat_minor": 2
}
