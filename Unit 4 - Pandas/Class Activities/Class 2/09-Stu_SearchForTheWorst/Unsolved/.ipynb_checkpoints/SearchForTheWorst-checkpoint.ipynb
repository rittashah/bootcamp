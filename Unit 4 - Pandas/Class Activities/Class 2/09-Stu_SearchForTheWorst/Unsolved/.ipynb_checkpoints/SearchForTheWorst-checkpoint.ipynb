{
 "cells": [
  {
   "cell_type": "code",
   "execution_count": 1,
   "metadata": {},
   "outputs": [],
   "source": [
    "# Import Dependencies\n",
    "import pandas as pd"
   ]
  },
  {
   "cell_type": "code",
   "execution_count": 2,
   "metadata": {},
   "outputs": [
    {
     "data": {
      "text/html": [
       "<div>\n",
       "<style scoped>\n",
       "    .dataframe tbody tr th:only-of-type {\n",
       "        vertical-align: middle;\n",
       "    }\n",
       "\n",
       "    .dataframe tbody tr th {\n",
       "        vertical-align: top;\n",
       "    }\n",
       "\n",
       "    .dataframe thead th {\n",
       "        text-align: right;\n",
       "    }\n",
       "</style>\n",
       "<table border=\"1\" class=\"dataframe\">\n",
       "  <thead>\n",
       "    <tr style=\"text-align: right;\">\n",
       "      <th></th>\n",
       "      <th>Year</th>\n",
       "      <th>Month Number</th>\n",
       "      <th>Month</th>\n",
       "      <th>Utility</th>\n",
       "      <th>Owner</th>\n",
       "      <th>Units</th>\n",
       "      <th>Usage</th>\n",
       "    </tr>\n",
       "  </thead>\n",
       "  <tbody>\n",
       "    <tr>\n",
       "      <th>0</th>\n",
       "      <td>2013</td>\n",
       "      <td>1</td>\n",
       "      <td>Jan</td>\n",
       "      <td>Passengers</td>\n",
       "      <td>Campus</td>\n",
       "      <td>PAX</td>\n",
       "      <td>3209356.0</td>\n",
       "    </tr>\n",
       "    <tr>\n",
       "      <th>1</th>\n",
       "      <td>2013</td>\n",
       "      <td>1</td>\n",
       "      <td>Jan</td>\n",
       "      <td>Gas</td>\n",
       "      <td>Commission</td>\n",
       "      <td>Therms</td>\n",
       "      <td>363205.0</td>\n",
       "    </tr>\n",
       "    <tr>\n",
       "      <th>2</th>\n",
       "      <td>2013</td>\n",
       "      <td>1</td>\n",
       "      <td>Jan</td>\n",
       "      <td>Gas</td>\n",
       "      <td>Tenant</td>\n",
       "      <td>Therms</td>\n",
       "      <td>49393.0</td>\n",
       "    </tr>\n",
       "    <tr>\n",
       "      <th>3</th>\n",
       "      <td>2013</td>\n",
       "      <td>1</td>\n",
       "      <td>Jan</td>\n",
       "      <td>Electricity</td>\n",
       "      <td>Commission</td>\n",
       "      <td>kWh</td>\n",
       "      <td>12904353.0</td>\n",
       "    </tr>\n",
       "    <tr>\n",
       "      <th>4</th>\n",
       "      <td>2013</td>\n",
       "      <td>1</td>\n",
       "      <td>Jan</td>\n",
       "      <td>Electricity</td>\n",
       "      <td>Tenant</td>\n",
       "      <td>kWh</td>\n",
       "      <td>14002156.0</td>\n",
       "    </tr>\n",
       "  </tbody>\n",
       "</table>\n",
       "</div>"
      ],
      "text/plain": [
       "   Year  Month Number Month      Utility       Owner   Units       Usage\n",
       "0  2013             1   Jan   Passengers      Campus     PAX   3209356.0\n",
       "1  2013             1   Jan          Gas  Commission  Therms    363205.0\n",
       "2  2013             1   Jan          Gas      Tenant  Therms     49393.0\n",
       "3  2013             1   Jan  Electricity  Commission     kWh  12904353.0\n",
       "4  2013             1   Jan  Electricity      Tenant     kWh  14002156.0"
      ]
     },
     "execution_count": 2,
     "metadata": {},
     "output_type": "execute_result"
    }
   ],
   "source": [
    "# Create reference to CSV file\n",
    "csv_path = \"Resources/SFO_Airport_Utility_Consumption.csv\"\n",
    "\n",
    "# Import the CSV into a pandas DataFrame\n",
    "consumption_df = pd.read_csv(csv_path)\n",
    "consumption_df.head()"
   ]
  },
  {
   "cell_type": "code",
   "execution_count": null,
   "metadata": {
    "collapsed": true
   },
   "outputs": [],
   "source": [
    "# Collect a list of all the unique values in \"Utility\"\n",
    "consumption_df[\"\"]"
   ]
  },
  {
   "cell_type": "code",
   "execution_count": null,
   "metadata": {
    "collapsed": true
   },
   "outputs": [],
   "source": [
    "# Looking only at Electricity Consumption with \"Tenant\" owner"
   ]
  },
  {
   "cell_type": "code",
   "execution_count": null,
   "metadata": {
    "collapsed": true
   },
   "outputs": [],
   "source": [
    "# Sort the DataFrame by the values in the \"Usage\" column to find the worst day\n",
    "\n",
    "# Reset the index so that the index is now based on the sorting locations"
   ]
  },
  {
   "cell_type": "code",
   "execution_count": null,
   "metadata": {
    "collapsed": true,
    "scrolled": false
   },
   "outputs": [],
   "source": [
    "# Save all of the information collected on the worst day"
   ]
  }
 ],
 "metadata": {
  "kernelspec": {
   "display_name": "Python 3 (ipykernel)",
   "language": "python",
   "name": "python3"
  },
  "language_info": {
   "codemirror_mode": {
    "name": "ipython",
    "version": 3
   },
   "file_extension": ".py",
   "mimetype": "text/x-python",
   "name": "python",
   "nbconvert_exporter": "python",
   "pygments_lexer": "ipython3",
   "version": "3.9.16"
  }
 },
 "nbformat": 4,
 "nbformat_minor": 2
}
