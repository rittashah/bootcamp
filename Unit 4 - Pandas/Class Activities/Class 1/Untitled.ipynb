{
 "cells": [
  {
   "cell_type": "code",
   "execution_count": 1,
   "id": "7effaec5",
   "metadata": {},
   "outputs": [
    {
     "name": "stdout",
     "output_type": "stream",
     "text": [
      "What title are you looking for? harry \n"
     ]
    }
   ],
   "source": [
    "import os\n",
    "import csv\n",
    "book = input(\"What title are you looking for? \")"
   ]
  },
  {
   "cell_type": "code",
   "execution_count": 2,
   "id": "eb04e908",
   "metadata": {},
   "outputs": [],
   "source": [
    "csvpath = os.path.join(\"Resources\", \"comic_books.csv\")\n",
    "found = False\n"
   ]
  },
  {
   "cell_type": "code",
   "execution_count": 3,
   "id": "64faa01c",
   "metadata": {},
   "outputs": [
    {
     "ename": "NameError",
     "evalue": "name 'csvreader' is not defined",
     "output_type": "error",
     "traceback": [
      "\u001b[1;31m---------------------------------------------------------------------------\u001b[0m",
      "\u001b[1;31mNameError\u001b[0m                                 Traceback (most recent call last)",
      "Cell \u001b[1;32mIn[3], line 1\u001b[0m\n\u001b[1;32m----> 1\u001b[0m \u001b[38;5;28;01mfor\u001b[39;00m row \u001b[38;5;129;01min\u001b[39;00m \u001b[43mcsvreader\u001b[49m:\n\u001b[0;32m      2\u001b[0m         \u001b[38;5;28;01mif\u001b[39;00m row[\u001b[38;5;241m0\u001b[39m] \u001b[38;5;241m==\u001b[39m book:\n\u001b[0;32m      3\u001b[0m             \u001b[38;5;28mprint\u001b[39m(row[\u001b[38;5;241m0\u001b[39m] \u001b[38;5;241m+\u001b[39m \u001b[38;5;124m\"\u001b[39m\u001b[38;5;124m was published by \u001b[39m\u001b[38;5;124m\"\u001b[39m \u001b[38;5;241m+\u001b[39m row[\u001b[38;5;241m8\u001b[39m] \u001b[38;5;241m+\u001b[39m \u001b[38;5;124m\"\u001b[39m\u001b[38;5;124m in \u001b[39m\u001b[38;5;124m\"\u001b[39m \u001b[38;5;241m+\u001b[39m row[\u001b[38;5;241m9\u001b[39m])\n",
      "\u001b[1;31mNameError\u001b[0m: name 'csvreader' is not defined"
     ]
    }
   ],
   "source": [
    "for row in csvreader:\n",
    "        if row[0] == book:\n",
    "            print(row[0] + \" was published by \" + row[8] + \" in \" + row[9])\n",
    "\n",
    "            # Set variable to confirm we have found the video\n",
    "            found = True\n"
   ]
  },
  {
   "cell_type": "code",
   "execution_count": null,
   "id": "9f80465f",
   "metadata": {},
   "outputs": [],
   "source": [
    "if found is False:\n",
    "        print(\"Sorry about this, we don't seem to have what you are looking for!\")\n"
   ]
  }
 ],
 "metadata": {
  "kernelspec": {
   "display_name": "Python 3 (ipykernel)",
   "language": "python",
   "name": "python3"
  },
  "language_info": {
   "codemirror_mode": {
    "name": "ipython",
    "version": 3
   },
   "file_extension": ".py",
   "mimetype": "text/x-python",
   "name": "python",
   "nbconvert_exporter": "python",
   "pygments_lexer": "ipython3",
   "version": "3.9.16"
  }
 },
 "nbformat": 4,
 "nbformat_minor": 5
}
